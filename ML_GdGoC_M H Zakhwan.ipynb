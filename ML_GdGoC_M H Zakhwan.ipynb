{
  "nbformat": 4,
  "nbformat_minor": 0,
  "metadata": {
    "colab": {
      "provenance": []
    },
    "kernelspec": {
      "name": "python3",
      "display_name": "Python 3"
    },
    "language_info": {
      "name": "python"
    }
  },
  "cells": [
    {
      "cell_type": "code",
      "source": [
        "# TUGAS VISUALISASI DAN INSIGHT MENGGUNAKAN GOOGLE COLLAB\n",
        "# TUGAS MENGGUNAKAN DATASHET DARI KAGGLE\n",
        "# JUDUL DATASETS - [Airbus Aircraft Detection]"
      ],
      "metadata": {
        "id": "bi5phYeTaU2k"
      },
      "execution_count": null,
      "outputs": []
    },
    {
      "cell_type": "code",
      "execution_count": null,
      "metadata": {
        "colab": {
          "base_uri": "https://localhost:8080/",
          "height": 73
        },
        "id": "JJyQrgN1Pllw",
        "outputId": "2194ca5d-51d8-4b19-9746-58d9df907dc5"
      },
      "outputs": [
        {
          "output_type": "display_data",
          "data": {
            "text/plain": [
              "<IPython.core.display.HTML object>"
            ],
            "text/html": [
              "\n",
              "     <input type=\"file\" id=\"files-b6634cc4-9797-4ce3-b565-480dfeb272cf\" name=\"files[]\" multiple disabled\n",
              "        style=\"border:none\" />\n",
              "     <output id=\"result-b6634cc4-9797-4ce3-b565-480dfeb272cf\">\n",
              "      Upload widget is only available when the cell has been executed in the\n",
              "      current browser session. Please rerun this cell to enable.\n",
              "      </output>\n",
              "      <script>// Copyright 2017 Google LLC\n",
              "//\n",
              "// Licensed under the Apache License, Version 2.0 (the \"License\");\n",
              "// you may not use this file except in compliance with the License.\n",
              "// You may obtain a copy of the License at\n",
              "//\n",
              "//      http://www.apache.org/licenses/LICENSE-2.0\n",
              "//\n",
              "// Unless required by applicable law or agreed to in writing, software\n",
              "// distributed under the License is distributed on an \"AS IS\" BASIS,\n",
              "// WITHOUT WARRANTIES OR CONDITIONS OF ANY KIND, either express or implied.\n",
              "// See the License for the specific language governing permissions and\n",
              "// limitations under the License.\n",
              "\n",
              "/**\n",
              " * @fileoverview Helpers for google.colab Python module.\n",
              " */\n",
              "(function(scope) {\n",
              "function span(text, styleAttributes = {}) {\n",
              "  const element = document.createElement('span');\n",
              "  element.textContent = text;\n",
              "  for (const key of Object.keys(styleAttributes)) {\n",
              "    element.style[key] = styleAttributes[key];\n",
              "  }\n",
              "  return element;\n",
              "}\n",
              "\n",
              "// Max number of bytes which will be uploaded at a time.\n",
              "const MAX_PAYLOAD_SIZE = 100 * 1024;\n",
              "\n",
              "function _uploadFiles(inputId, outputId) {\n",
              "  const steps = uploadFilesStep(inputId, outputId);\n",
              "  const outputElement = document.getElementById(outputId);\n",
              "  // Cache steps on the outputElement to make it available for the next call\n",
              "  // to uploadFilesContinue from Python.\n",
              "  outputElement.steps = steps;\n",
              "\n",
              "  return _uploadFilesContinue(outputId);\n",
              "}\n",
              "\n",
              "// This is roughly an async generator (not supported in the browser yet),\n",
              "// where there are multiple asynchronous steps and the Python side is going\n",
              "// to poll for completion of each step.\n",
              "// This uses a Promise to block the python side on completion of each step,\n",
              "// then passes the result of the previous step as the input to the next step.\n",
              "function _uploadFilesContinue(outputId) {\n",
              "  const outputElement = document.getElementById(outputId);\n",
              "  const steps = outputElement.steps;\n",
              "\n",
              "  const next = steps.next(outputElement.lastPromiseValue);\n",
              "  return Promise.resolve(next.value.promise).then((value) => {\n",
              "    // Cache the last promise value to make it available to the next\n",
              "    // step of the generator.\n",
              "    outputElement.lastPromiseValue = value;\n",
              "    return next.value.response;\n",
              "  });\n",
              "}\n",
              "\n",
              "/**\n",
              " * Generator function which is called between each async step of the upload\n",
              " * process.\n",
              " * @param {string} inputId Element ID of the input file picker element.\n",
              " * @param {string} outputId Element ID of the output display.\n",
              " * @return {!Iterable<!Object>} Iterable of next steps.\n",
              " */\n",
              "function* uploadFilesStep(inputId, outputId) {\n",
              "  const inputElement = document.getElementById(inputId);\n",
              "  inputElement.disabled = false;\n",
              "\n",
              "  const outputElement = document.getElementById(outputId);\n",
              "  outputElement.innerHTML = '';\n",
              "\n",
              "  const pickedPromise = new Promise((resolve) => {\n",
              "    inputElement.addEventListener('change', (e) => {\n",
              "      resolve(e.target.files);\n",
              "    });\n",
              "  });\n",
              "\n",
              "  const cancel = document.createElement('button');\n",
              "  inputElement.parentElement.appendChild(cancel);\n",
              "  cancel.textContent = 'Cancel upload';\n",
              "  const cancelPromise = new Promise((resolve) => {\n",
              "    cancel.onclick = () => {\n",
              "      resolve(null);\n",
              "    };\n",
              "  });\n",
              "\n",
              "  // Wait for the user to pick the files.\n",
              "  const files = yield {\n",
              "    promise: Promise.race([pickedPromise, cancelPromise]),\n",
              "    response: {\n",
              "      action: 'starting',\n",
              "    }\n",
              "  };\n",
              "\n",
              "  cancel.remove();\n",
              "\n",
              "  // Disable the input element since further picks are not allowed.\n",
              "  inputElement.disabled = true;\n",
              "\n",
              "  if (!files) {\n",
              "    return {\n",
              "      response: {\n",
              "        action: 'complete',\n",
              "      }\n",
              "    };\n",
              "  }\n",
              "\n",
              "  for (const file of files) {\n",
              "    const li = document.createElement('li');\n",
              "    li.append(span(file.name, {fontWeight: 'bold'}));\n",
              "    li.append(span(\n",
              "        `(${file.type || 'n/a'}) - ${file.size} bytes, ` +\n",
              "        `last modified: ${\n",
              "            file.lastModifiedDate ? file.lastModifiedDate.toLocaleDateString() :\n",
              "                                    'n/a'} - `));\n",
              "    const percent = span('0% done');\n",
              "    li.appendChild(percent);\n",
              "\n",
              "    outputElement.appendChild(li);\n",
              "\n",
              "    const fileDataPromise = new Promise((resolve) => {\n",
              "      const reader = new FileReader();\n",
              "      reader.onload = (e) => {\n",
              "        resolve(e.target.result);\n",
              "      };\n",
              "      reader.readAsArrayBuffer(file);\n",
              "    });\n",
              "    // Wait for the data to be ready.\n",
              "    let fileData = yield {\n",
              "      promise: fileDataPromise,\n",
              "      response: {\n",
              "        action: 'continue',\n",
              "      }\n",
              "    };\n",
              "\n",
              "    // Use a chunked sending to avoid message size limits. See b/62115660.\n",
              "    let position = 0;\n",
              "    do {\n",
              "      const length = Math.min(fileData.byteLength - position, MAX_PAYLOAD_SIZE);\n",
              "      const chunk = new Uint8Array(fileData, position, length);\n",
              "      position += length;\n",
              "\n",
              "      const base64 = btoa(String.fromCharCode.apply(null, chunk));\n",
              "      yield {\n",
              "        response: {\n",
              "          action: 'append',\n",
              "          file: file.name,\n",
              "          data: base64,\n",
              "        },\n",
              "      };\n",
              "\n",
              "      let percentDone = fileData.byteLength === 0 ?\n",
              "          100 :\n",
              "          Math.round((position / fileData.byteLength) * 100);\n",
              "      percent.textContent = `${percentDone}% done`;\n",
              "\n",
              "    } while (position < fileData.byteLength);\n",
              "  }\n",
              "\n",
              "  // All done.\n",
              "  yield {\n",
              "    response: {\n",
              "      action: 'complete',\n",
              "    }\n",
              "  };\n",
              "}\n",
              "\n",
              "scope.google = scope.google || {};\n",
              "scope.google.colab = scope.google.colab || {};\n",
              "scope.google.colab._files = {\n",
              "  _uploadFiles,\n",
              "  _uploadFilesContinue,\n",
              "};\n",
              "})(self);\n",
              "</script> "
            ]
          },
          "metadata": {}
        },
        {
          "output_type": "stream",
          "name": "stdout",
          "text": [
            "Saving kaggle.json to kaggle.json\n"
          ]
        }
      ],
      "source": [
        "#VISUALISASI\n",
        "\n",
        "from google.colab import files\n",
        "\n",
        "uploaded = files.upload()\n"
      ]
    },
    {
      "cell_type": "code",
      "source": [
        "#VISUALISASI\n",
        "\n",
        "import shutil\n",
        "import os\n",
        "\n",
        "!mkdir -p ~/.kaggle\n",
        "\n",
        "shutil.move(\"kaggle.json\", os.path.expanduser(\"~/.kaggle/kaggle.json\"))\n",
        "\n",
        "!chmod 600 ~/.kaggle/kaggle.json\n"
      ],
      "metadata": {
        "id": "v0NN8ebsP4vP"
      },
      "execution_count": null,
      "outputs": []
    },
    {
      "cell_type": "code",
      "source": [
        "#VISUALISASI\n",
        "\n",
        "import zipfile\n",
        "\n",
        "with zipfile.ZipFile(\"airbus-aircrafts-sample-dataset.zip\", 'r') as zip_ref:\n",
        "    zip_ref.extractall(\"airbus_dataset\")\n"
      ],
      "metadata": {
        "id": "sRkLxtpNQjCm"
      },
      "execution_count": null,
      "outputs": []
    },
    {
      "cell_type": "code",
      "source": [
        "#VISUALISASI\n",
        "\n",
        "import os\n",
        "\n",
        "os.listdir(\"airbus_dataset\")\n"
      ],
      "metadata": {
        "colab": {
          "base_uri": "https://localhost:8080/"
        },
        "id": "knbHvNtLQnUZ",
        "outputId": "0fb536b6-106a-4ac9-ee34-5b5afbe11e0e"
      },
      "execution_count": null,
      "outputs": [
        {
          "output_type": "execute_result",
          "data": {
            "text/plain": [
              "['annotations.csv', 'extras', 'README.md', 'images', 'LICENSE.txt']"
            ]
          },
          "metadata": {},
          "execution_count": 5
        }
      ]
    },
    {
      "cell_type": "code",
      "source": [
        "#VISUALISASI\n",
        "\n",
        "import pandas as pd\n",
        "\n",
        "\n",
        "df = pd.read_csv(\"airbus_dataset/annotations.csv\")\n",
        "\n",
        "df.head()\n"
      ],
      "metadata": {
        "colab": {
          "base_uri": "https://localhost:8080/",
          "height": 206
        },
        "id": "VKu3n0i4QzDE",
        "outputId": "d4fce84a-b223-493e-f275-02945632e042"
      },
      "execution_count": null,
      "outputs": [
        {
          "output_type": "execute_result",
          "data": {
            "text/plain": [
              "   id                                  image_id  \\\n",
              "0   1  4f833867-273e-4d73-8bc3-cb2d9ceb54ef.jpg   \n",
              "1   2  4f833867-273e-4d73-8bc3-cb2d9ceb54ef.jpg   \n",
              "2   3  4f833867-273e-4d73-8bc3-cb2d9ceb54ef.jpg   \n",
              "3   4  4f833867-273e-4d73-8bc3-cb2d9ceb54ef.jpg   \n",
              "4   5  4f833867-273e-4d73-8bc3-cb2d9ceb54ef.jpg   \n",
              "\n",
              "                                            geometry     class  \n",
              "0  [(135, 522), (245, 522), (245, 600), (135, 600...  Airplane  \n",
              "1  [(1025, 284), (1125, 284), (1125, 384), (1025,...  Airplane  \n",
              "2  [(1058, 1503), (1130, 1503), (1130, 1568), (10...  Airplane  \n",
              "3  [(813, 1518), (885, 1518), (885, 1604), (813, ...  Airplane  \n",
              "4  [(594, 938), (657, 938), (657, 1012), (594, 10...  Airplane  "
            ],
            "text/html": [
              "\n",
              "  <div id=\"df-5817eb9a-fe84-447f-a526-4c6cd02a469a\" class=\"colab-df-container\">\n",
              "    <div>\n",
              "<style scoped>\n",
              "    .dataframe tbody tr th:only-of-type {\n",
              "        vertical-align: middle;\n",
              "    }\n",
              "\n",
              "    .dataframe tbody tr th {\n",
              "        vertical-align: top;\n",
              "    }\n",
              "\n",
              "    .dataframe thead th {\n",
              "        text-align: right;\n",
              "    }\n",
              "</style>\n",
              "<table border=\"1\" class=\"dataframe\">\n",
              "  <thead>\n",
              "    <tr style=\"text-align: right;\">\n",
              "      <th></th>\n",
              "      <th>id</th>\n",
              "      <th>image_id</th>\n",
              "      <th>geometry</th>\n",
              "      <th>class</th>\n",
              "    </tr>\n",
              "  </thead>\n",
              "  <tbody>\n",
              "    <tr>\n",
              "      <th>0</th>\n",
              "      <td>1</td>\n",
              "      <td>4f833867-273e-4d73-8bc3-cb2d9ceb54ef.jpg</td>\n",
              "      <td>[(135, 522), (245, 522), (245, 600), (135, 600...</td>\n",
              "      <td>Airplane</td>\n",
              "    </tr>\n",
              "    <tr>\n",
              "      <th>1</th>\n",
              "      <td>2</td>\n",
              "      <td>4f833867-273e-4d73-8bc3-cb2d9ceb54ef.jpg</td>\n",
              "      <td>[(1025, 284), (1125, 284), (1125, 384), (1025,...</td>\n",
              "      <td>Airplane</td>\n",
              "    </tr>\n",
              "    <tr>\n",
              "      <th>2</th>\n",
              "      <td>3</td>\n",
              "      <td>4f833867-273e-4d73-8bc3-cb2d9ceb54ef.jpg</td>\n",
              "      <td>[(1058, 1503), (1130, 1503), (1130, 1568), (10...</td>\n",
              "      <td>Airplane</td>\n",
              "    </tr>\n",
              "    <tr>\n",
              "      <th>3</th>\n",
              "      <td>4</td>\n",
              "      <td>4f833867-273e-4d73-8bc3-cb2d9ceb54ef.jpg</td>\n",
              "      <td>[(813, 1518), (885, 1518), (885, 1604), (813, ...</td>\n",
              "      <td>Airplane</td>\n",
              "    </tr>\n",
              "    <tr>\n",
              "      <th>4</th>\n",
              "      <td>5</td>\n",
              "      <td>4f833867-273e-4d73-8bc3-cb2d9ceb54ef.jpg</td>\n",
              "      <td>[(594, 938), (657, 938), (657, 1012), (594, 10...</td>\n",
              "      <td>Airplane</td>\n",
              "    </tr>\n",
              "  </tbody>\n",
              "</table>\n",
              "</div>\n",
              "    <div class=\"colab-df-buttons\">\n",
              "\n",
              "  <div class=\"colab-df-container\">\n",
              "    <button class=\"colab-df-convert\" onclick=\"convertToInteractive('df-5817eb9a-fe84-447f-a526-4c6cd02a469a')\"\n",
              "            title=\"Convert this dataframe to an interactive table.\"\n",
              "            style=\"display:none;\">\n",
              "\n",
              "  <svg xmlns=\"http://www.w3.org/2000/svg\" height=\"24px\" viewBox=\"0 -960 960 960\">\n",
              "    <path d=\"M120-120v-720h720v720H120Zm60-500h600v-160H180v160Zm220 220h160v-160H400v160Zm0 220h160v-160H400v160ZM180-400h160v-160H180v160Zm440 0h160v-160H620v160ZM180-180h160v-160H180v160Zm440 0h160v-160H620v160Z\"/>\n",
              "  </svg>\n",
              "    </button>\n",
              "\n",
              "  <style>\n",
              "    .colab-df-container {\n",
              "      display:flex;\n",
              "      gap: 12px;\n",
              "    }\n",
              "\n",
              "    .colab-df-convert {\n",
              "      background-color: #E8F0FE;\n",
              "      border: none;\n",
              "      border-radius: 50%;\n",
              "      cursor: pointer;\n",
              "      display: none;\n",
              "      fill: #1967D2;\n",
              "      height: 32px;\n",
              "      padding: 0 0 0 0;\n",
              "      width: 32px;\n",
              "    }\n",
              "\n",
              "    .colab-df-convert:hover {\n",
              "      background-color: #E2EBFA;\n",
              "      box-shadow: 0px 1px 2px rgba(60, 64, 67, 0.3), 0px 1px 3px 1px rgba(60, 64, 67, 0.15);\n",
              "      fill: #174EA6;\n",
              "    }\n",
              "\n",
              "    .colab-df-buttons div {\n",
              "      margin-bottom: 4px;\n",
              "    }\n",
              "\n",
              "    [theme=dark] .colab-df-convert {\n",
              "      background-color: #3B4455;\n",
              "      fill: #D2E3FC;\n",
              "    }\n",
              "\n",
              "    [theme=dark] .colab-df-convert:hover {\n",
              "      background-color: #434B5C;\n",
              "      box-shadow: 0px 1px 3px 1px rgba(0, 0, 0, 0.15);\n",
              "      filter: drop-shadow(0px 1px 2px rgba(0, 0, 0, 0.3));\n",
              "      fill: #FFFFFF;\n",
              "    }\n",
              "  </style>\n",
              "\n",
              "    <script>\n",
              "      const buttonEl =\n",
              "        document.querySelector('#df-5817eb9a-fe84-447f-a526-4c6cd02a469a button.colab-df-convert');\n",
              "      buttonEl.style.display =\n",
              "        google.colab.kernel.accessAllowed ? 'block' : 'none';\n",
              "\n",
              "      async function convertToInteractive(key) {\n",
              "        const element = document.querySelector('#df-5817eb9a-fe84-447f-a526-4c6cd02a469a');\n",
              "        const dataTable =\n",
              "          await google.colab.kernel.invokeFunction('convertToInteractive',\n",
              "                                                    [key], {});\n",
              "        if (!dataTable) return;\n",
              "\n",
              "        const docLinkHtml = 'Like what you see? Visit the ' +\n",
              "          '<a target=\"_blank\" href=https://colab.research.google.com/notebooks/data_table.ipynb>data table notebook</a>'\n",
              "          + ' to learn more about interactive tables.';\n",
              "        element.innerHTML = '';\n",
              "        dataTable['output_type'] = 'display_data';\n",
              "        await google.colab.output.renderOutput(dataTable, element);\n",
              "        const docLink = document.createElement('div');\n",
              "        docLink.innerHTML = docLinkHtml;\n",
              "        element.appendChild(docLink);\n",
              "      }\n",
              "    </script>\n",
              "  </div>\n",
              "\n",
              "\n",
              "<div id=\"df-6355b51a-fb15-4107-949e-2144191b22f7\">\n",
              "  <button class=\"colab-df-quickchart\" onclick=\"quickchart('df-6355b51a-fb15-4107-949e-2144191b22f7')\"\n",
              "            title=\"Suggest charts\"\n",
              "            style=\"display:none;\">\n",
              "\n",
              "<svg xmlns=\"http://www.w3.org/2000/svg\" height=\"24px\"viewBox=\"0 0 24 24\"\n",
              "     width=\"24px\">\n",
              "    <g>\n",
              "        <path d=\"M19 3H5c-1.1 0-2 .9-2 2v14c0 1.1.9 2 2 2h14c1.1 0 2-.9 2-2V5c0-1.1-.9-2-2-2zM9 17H7v-7h2v7zm4 0h-2V7h2v10zm4 0h-2v-4h2v4z\"/>\n",
              "    </g>\n",
              "</svg>\n",
              "  </button>\n",
              "\n",
              "<style>\n",
              "  .colab-df-quickchart {\n",
              "      --bg-color: #E8F0FE;\n",
              "      --fill-color: #1967D2;\n",
              "      --hover-bg-color: #E2EBFA;\n",
              "      --hover-fill-color: #174EA6;\n",
              "      --disabled-fill-color: #AAA;\n",
              "      --disabled-bg-color: #DDD;\n",
              "  }\n",
              "\n",
              "  [theme=dark] .colab-df-quickchart {\n",
              "      --bg-color: #3B4455;\n",
              "      --fill-color: #D2E3FC;\n",
              "      --hover-bg-color: #434B5C;\n",
              "      --hover-fill-color: #FFFFFF;\n",
              "      --disabled-bg-color: #3B4455;\n",
              "      --disabled-fill-color: #666;\n",
              "  }\n",
              "\n",
              "  .colab-df-quickchart {\n",
              "    background-color: var(--bg-color);\n",
              "    border: none;\n",
              "    border-radius: 50%;\n",
              "    cursor: pointer;\n",
              "    display: none;\n",
              "    fill: var(--fill-color);\n",
              "    height: 32px;\n",
              "    padding: 0;\n",
              "    width: 32px;\n",
              "  }\n",
              "\n",
              "  .colab-df-quickchart:hover {\n",
              "    background-color: var(--hover-bg-color);\n",
              "    box-shadow: 0 1px 2px rgba(60, 64, 67, 0.3), 0 1px 3px 1px rgba(60, 64, 67, 0.15);\n",
              "    fill: var(--button-hover-fill-color);\n",
              "  }\n",
              "\n",
              "  .colab-df-quickchart-complete:disabled,\n",
              "  .colab-df-quickchart-complete:disabled:hover {\n",
              "    background-color: var(--disabled-bg-color);\n",
              "    fill: var(--disabled-fill-color);\n",
              "    box-shadow: none;\n",
              "  }\n",
              "\n",
              "  .colab-df-spinner {\n",
              "    border: 2px solid var(--fill-color);\n",
              "    border-color: transparent;\n",
              "    border-bottom-color: var(--fill-color);\n",
              "    animation:\n",
              "      spin 1s steps(1) infinite;\n",
              "  }\n",
              "\n",
              "  @keyframes spin {\n",
              "    0% {\n",
              "      border-color: transparent;\n",
              "      border-bottom-color: var(--fill-color);\n",
              "      border-left-color: var(--fill-color);\n",
              "    }\n",
              "    20% {\n",
              "      border-color: transparent;\n",
              "      border-left-color: var(--fill-color);\n",
              "      border-top-color: var(--fill-color);\n",
              "    }\n",
              "    30% {\n",
              "      border-color: transparent;\n",
              "      border-left-color: var(--fill-color);\n",
              "      border-top-color: var(--fill-color);\n",
              "      border-right-color: var(--fill-color);\n",
              "    }\n",
              "    40% {\n",
              "      border-color: transparent;\n",
              "      border-right-color: var(--fill-color);\n",
              "      border-top-color: var(--fill-color);\n",
              "    }\n",
              "    60% {\n",
              "      border-color: transparent;\n",
              "      border-right-color: var(--fill-color);\n",
              "    }\n",
              "    80% {\n",
              "      border-color: transparent;\n",
              "      border-right-color: var(--fill-color);\n",
              "      border-bottom-color: var(--fill-color);\n",
              "    }\n",
              "    90% {\n",
              "      border-color: transparent;\n",
              "      border-bottom-color: var(--fill-color);\n",
              "    }\n",
              "  }\n",
              "</style>\n",
              "\n",
              "  <script>\n",
              "    async function quickchart(key) {\n",
              "      const quickchartButtonEl =\n",
              "        document.querySelector('#' + key + ' button');\n",
              "      quickchartButtonEl.disabled = true;  // To prevent multiple clicks.\n",
              "      quickchartButtonEl.classList.add('colab-df-spinner');\n",
              "      try {\n",
              "        const charts = await google.colab.kernel.invokeFunction(\n",
              "            'suggestCharts', [key], {});\n",
              "      } catch (error) {\n",
              "        console.error('Error during call to suggestCharts:', error);\n",
              "      }\n",
              "      quickchartButtonEl.classList.remove('colab-df-spinner');\n",
              "      quickchartButtonEl.classList.add('colab-df-quickchart-complete');\n",
              "    }\n",
              "    (() => {\n",
              "      let quickchartButtonEl =\n",
              "        document.querySelector('#df-6355b51a-fb15-4107-949e-2144191b22f7 button');\n",
              "      quickchartButtonEl.style.display =\n",
              "        google.colab.kernel.accessAllowed ? 'block' : 'none';\n",
              "    })();\n",
              "  </script>\n",
              "</div>\n",
              "\n",
              "    </div>\n",
              "  </div>\n"
            ],
            "application/vnd.google.colaboratory.intrinsic+json": {
              "type": "dataframe",
              "variable_name": "df",
              "summary": "{\n  \"name\": \"df\",\n  \"rows\": 3425,\n  \"fields\": [\n    {\n      \"column\": \"id\",\n      \"properties\": {\n        \"dtype\": \"number\",\n        \"std\": 988,\n        \"min\": 1,\n        \"max\": 3425,\n        \"num_unique_values\": 3425,\n        \"samples\": [\n          791,\n          1412,\n          2081\n        ],\n        \"semantic_type\": \"\",\n        \"description\": \"\"\n      }\n    },\n    {\n      \"column\": \"image_id\",\n      \"properties\": {\n        \"dtype\": \"category\",\n        \"num_unique_values\": 103,\n        \"samples\": [\n          \"77f7b57f-5cf2-424d-a952-9847b3c3f35e.jpg\",\n          \"135fdc4c-6656-4176-9873-9f00c6918293.jpg\",\n          \"b3c7c22d-9c71-4ff3-9146-e2f9ab2f9787.jpg\"\n        ],\n        \"semantic_type\": \"\",\n        \"description\": \"\"\n      }\n    },\n    {\n      \"column\": \"geometry\",\n      \"properties\": {\n        \"dtype\": \"string\",\n        \"num_unique_values\": 3425,\n        \"samples\": [\n          \"[(1484, 983), (1608, 983), (1608, 1098), (1484, 1098), (1484, 983)]\",\n          \"[(1156, 2110), (1292, 2110), (1292, 2268), (1156, 2268), (1156, 2110)]\",\n          \"[(1225, 832), (1271, 832), (1271, 888), (1225, 888), (1225, 832)]\"\n        ],\n        \"semantic_type\": \"\",\n        \"description\": \"\"\n      }\n    },\n    {\n      \"column\": \"class\",\n      \"properties\": {\n        \"dtype\": \"category\",\n        \"num_unique_values\": 2,\n        \"samples\": [\n          \"Truncated_airplane\",\n          \"Airplane\"\n        ],\n        \"semantic_type\": \"\",\n        \"description\": \"\"\n      }\n    }\n  ]\n}"
            }
          },
          "metadata": {},
          "execution_count": 7
        }
      ]
    },
    {
      "cell_type": "code",
      "source": [
        "#INSIGHT EDA\n",
        "df.info()\n",
        "df.describe()\n",
        "df.isnull().sum()\n"
      ],
      "metadata": {
        "colab": {
          "base_uri": "https://localhost:8080/",
          "height": 400
        },
        "id": "XEznlPqJRz0A",
        "outputId": "6362e6a6-1dfc-4c10-c918-18c2f99236f6"
      },
      "execution_count": null,
      "outputs": [
        {
          "output_type": "stream",
          "name": "stdout",
          "text": [
            "<class 'pandas.core.frame.DataFrame'>\n",
            "RangeIndex: 3425 entries, 0 to 3424\n",
            "Data columns (total 4 columns):\n",
            " #   Column    Non-Null Count  Dtype \n",
            "---  ------    --------------  ----- \n",
            " 0   id        3425 non-null   int64 \n",
            " 1   image_id  3425 non-null   object\n",
            " 2   geometry  3425 non-null   object\n",
            " 3   class     3425 non-null   object\n",
            "dtypes: int64(1), object(3)\n",
            "memory usage: 107.2+ KB\n"
          ]
        },
        {
          "output_type": "execute_result",
          "data": {
            "text/plain": [
              "id          0\n",
              "image_id    0\n",
              "geometry    0\n",
              "class       0\n",
              "dtype: int64"
            ],
            "text/html": [
              "<div>\n",
              "<style scoped>\n",
              "    .dataframe tbody tr th:only-of-type {\n",
              "        vertical-align: middle;\n",
              "    }\n",
              "\n",
              "    .dataframe tbody tr th {\n",
              "        vertical-align: top;\n",
              "    }\n",
              "\n",
              "    .dataframe thead th {\n",
              "        text-align: right;\n",
              "    }\n",
              "</style>\n",
              "<table border=\"1\" class=\"dataframe\">\n",
              "  <thead>\n",
              "    <tr style=\"text-align: right;\">\n",
              "      <th></th>\n",
              "      <th>0</th>\n",
              "    </tr>\n",
              "  </thead>\n",
              "  <tbody>\n",
              "    <tr>\n",
              "      <th>id</th>\n",
              "      <td>0</td>\n",
              "    </tr>\n",
              "    <tr>\n",
              "      <th>image_id</th>\n",
              "      <td>0</td>\n",
              "    </tr>\n",
              "    <tr>\n",
              "      <th>geometry</th>\n",
              "      <td>0</td>\n",
              "    </tr>\n",
              "    <tr>\n",
              "      <th>class</th>\n",
              "      <td>0</td>\n",
              "    </tr>\n",
              "  </tbody>\n",
              "</table>\n",
              "</div><br><label><b>dtype:</b> int64</label>"
            ]
          },
          "metadata": {},
          "execution_count": 8
        }
      ]
    },
    {
      "cell_type": "code",
      "source": [
        "#INSIGHT EDA\n",
        "\n",
        "print(df.columns)\n"
      ],
      "metadata": {
        "colab": {
          "base_uri": "https://localhost:8080/"
        },
        "id": "nksrDcSTSt4u",
        "outputId": "ced3a3de-c1bd-4a0e-a44b-a490746a7009"
      },
      "execution_count": null,
      "outputs": [
        {
          "output_type": "stream",
          "name": "stdout",
          "text": [
            "Index(['id', 'image_id', 'geometry', 'class'], dtype='object')\n"
          ]
        }
      ]
    },
    {
      "cell_type": "code",
      "source": [
        "#INSIGHT EDA\n",
        "\n",
        "df.columns = df.columns.str.strip()\n"
      ],
      "metadata": {
        "id": "zmn_xVQMS9Ee"
      },
      "execution_count": null,
      "outputs": []
    },
    {
      "cell_type": "code",
      "source": [
        "#INSIGHT EDA\n",
        "\n",
        "import os\n",
        "\n",
        "print(os.listdir(\"airbus_dataset\"))\n"
      ],
      "metadata": {
        "colab": {
          "base_uri": "https://localhost:8080/"
        },
        "id": "kdaXApZBTFIM",
        "outputId": "44297caf-ab24-4d06-d1a6-dec19cc20910"
      },
      "execution_count": null,
      "outputs": [
        {
          "output_type": "stream",
          "name": "stdout",
          "text": [
            "['annotations.csv', 'extras', 'README.md', 'images', 'LICENSE.txt']\n"
          ]
        }
      ]
    },
    {
      "cell_type": "code",
      "source": [
        "#INSIGHT EDA\n",
        "\n",
        "df = pd.read_csv(\"airbus_dataset/annotations.csv\")\n",
        "print(df.head())\n"
      ],
      "metadata": {
        "colab": {
          "base_uri": "https://localhost:8080/"
        },
        "id": "2Y6pt5_gTH1g",
        "outputId": "9310fef7-a448-4e14-9aa3-664b86c69e10"
      },
      "execution_count": null,
      "outputs": [
        {
          "output_type": "stream",
          "name": "stdout",
          "text": [
            "   id                                  image_id  \\\n",
            "0   1  4f833867-273e-4d73-8bc3-cb2d9ceb54ef.jpg   \n",
            "1   2  4f833867-273e-4d73-8bc3-cb2d9ceb54ef.jpg   \n",
            "2   3  4f833867-273e-4d73-8bc3-cb2d9ceb54ef.jpg   \n",
            "3   4  4f833867-273e-4d73-8bc3-cb2d9ceb54ef.jpg   \n",
            "4   5  4f833867-273e-4d73-8bc3-cb2d9ceb54ef.jpg   \n",
            "\n",
            "                                            geometry     class  \n",
            "0  [(135, 522), (245, 522), (245, 600), (135, 600...  Airplane  \n",
            "1  [(1025, 284), (1125, 284), (1125, 384), (1025,...  Airplane  \n",
            "2  [(1058, 1503), (1130, 1503), (1130, 1568), (10...  Airplane  \n",
            "3  [(813, 1518), (885, 1518), (885, 1604), (813, ...  Airplane  \n",
            "4  [(594, 938), (657, 938), (657, 1012), (594, 10...  Airplane  \n"
          ]
        }
      ]
    },
    {
      "cell_type": "code",
      "source": [
        "#INSIGHT EDA\n",
        "\n",
        "print(df['class'].unique())\n"
      ],
      "metadata": {
        "colab": {
          "base_uri": "https://localhost:8080/"
        },
        "id": "3-sFG408TsQJ",
        "outputId": "5e80ea04-849a-4453-b125-d210373a1408"
      },
      "execution_count": null,
      "outputs": [
        {
          "output_type": "stream",
          "name": "stdout",
          "text": [
            "['Airplane' 'Truncated_airplane']\n"
          ]
        }
      ]
    },
    {
      "cell_type": "code",
      "source": [
        "#INSIGHT EDA & VISUALISASI\n",
        "\n",
        "import seaborn as sns\n",
        "import matplotlib.pyplot as plt\n",
        "\n",
        "plt.figure(figsize=(10, 5))\n",
        "sns.countplot(x=df['class'], palette=\"coolwarm\")\n",
        "plt.xticks(rotation=45)\n",
        "plt.title(\"Distribusi Kelas Pesawat\")\n",
        "plt.show()\n"
      ],
      "metadata": {
        "colab": {
          "base_uri": "https://localhost:8080/",
          "height": 684
        },
        "id": "U28tclwzUzU7",
        "outputId": "9a41a95c-92ff-40b0-8520-182ac9d47110"
      },
      "execution_count": null,
      "outputs": [
        {
          "output_type": "stream",
          "name": "stderr",
          "text": [
            "<ipython-input-18-62cfe0354ac0>:5: FutureWarning: \n",
            "\n",
            "Passing `palette` without assigning `hue` is deprecated and will be removed in v0.14.0. Assign the `x` variable to `hue` and set `legend=False` for the same effect.\n",
            "\n",
            "  sns.countplot(x=df['class'], palette=\"coolwarm\")\n"
          ]
        },
        {
          "output_type": "display_data",
          "data": {
            "text/plain": [
              "<Figure size 1000x500 with 1 Axes>"
            ],
            "image/png": "[encoded data removed]"
          },
          "metadata": {}
        }
      ]
    },
    {
      "cell_type": "code",
      "source": [
        "print(os.listdir(\"/content/\"))\n"
      ],
      "metadata": {
        "colab": {
          "base_uri": "https://localhost:8080/"
        },
        "id": "APfSjZd1VImO",
        "outputId": "16503e61-f229-4f18-bfea-57b4679eec08"
      },
      "execution_count": null,
      "outputs": [
        {
          "output_type": "stream",
          "name": "stdout",
          "text": [
            "['.config', 'airbus-aircrafts-sample-dataset.zip', 'airbus_dataset', 'sample_data']\n"
          ]
        }
      ]
    },
    {
      "cell_type": "code",
      "source": [
        "import os\n",
        "print(os.listdir(\"airbus_dataset\"))\n"
      ],
      "metadata": {
        "colab": {
          "base_uri": "https://localhost:8080/"
        },
        "id": "Ex28PH43VMlW",
        "outputId": "9e33f60e-a04a-4b96-ed41-37fbecc5908c"
      },
      "execution_count": null,
      "outputs": [
        {
          "output_type": "stream",
          "name": "stdout",
          "text": [
            "['annotations.csv', 'extras', 'README.md', 'images', 'LICENSE.txt']\n"
          ]
        }
      ]
    },
    {
      "cell_type": "code",
      "source": [
        "import os\n",
        "\n",
        "dataset_path = \"/content/airbus_dataset/\"\n",
        "print(os.listdir(dataset_path))\n"
      ],
      "metadata": {
        "colab": {
          "base_uri": "https://localhost:8080/"
        },
        "id": "x4TmWqQZVpQa",
        "outputId": "a3b271a2-a341-43dd-8c5e-33e218ce4b14"
      },
      "execution_count": null,
      "outputs": [
        {
          "output_type": "stream",
          "name": "stdout",
          "text": [
            "['annotations.csv', 'extras', 'README.md', 'images', 'LICENSE.txt']\n"
          ]
        }
      ]
    },
    {
      "cell_type": "code",
      "source": [
        "df_info = pd.read_csv(dataset_path + \"annotations.csv\")\n",
        "print(df_info.head())\n",
        "print(df_info.columns)"
      ],
      "metadata": {
        "colab": {
          "base_uri": "https://localhost:8080/"
        },
        "id": "ZpWvzIxHVssT",
        "outputId": "82b4c5b7-9d71-41f6-ad36-373e64fd1f4e"
      },
      "execution_count": null,
      "outputs": [
        {
          "output_type": "stream",
          "name": "stdout",
          "text": [
            "   id                                  image_id  \\\n",
            "0   1  4f833867-273e-4d73-8bc3-cb2d9ceb54ef.jpg   \n",
            "1   2  4f833867-273e-4d73-8bc3-cb2d9ceb54ef.jpg   \n",
            "2   3  4f833867-273e-4d73-8bc3-cb2d9ceb54ef.jpg   \n",
            "3   4  4f833867-273e-4d73-8bc3-cb2d9ceb54ef.jpg   \n",
            "4   5  4f833867-273e-4d73-8bc3-cb2d9ceb54ef.jpg   \n",
            "\n",
            "                                            geometry     class  \n",
            "0  [(135, 522), (245, 522), (245, 600), (135, 600...  Airplane  \n",
            "1  [(1025, 284), (1125, 284), (1125, 384), (1025,...  Airplane  \n",
            "2  [(1058, 1503), (1130, 1503), (1130, 1568), (10...  Airplane  \n",
            "3  [(813, 1518), (885, 1518), (885, 1604), (813, ...  Airplane  \n",
            "4  [(594, 938), (657, 938), (657, 1012), (594, 10...  Airplane  \n",
            "Index(['id', 'image_id', 'geometry', 'class'], dtype='object')\n"
          ]
        }
      ]
    },
    {
      "cell_type": "code",
      "source": [
        "#INSIGHT EDA & VISUALISASI\n",
        "\n",
        "import seaborn as sns\n",
        "import matplotlib.pyplot as plt\n",
        "\n",
        "plt.figure(figsize=(10, 5))\n",
        "sns.countplot(x=df['class'], palette=\"coolwarm\")\n",
        "plt.xticks(rotation=45)\n",
        "plt.title(\"Distribusi Kelas Pesawat Airbus\")\n",
        "plt.show()\n"
      ],
      "metadata": {
        "colab": {
          "base_uri": "https://localhost:8080/",
          "height": 684
        },
        "id": "KJefgcrQV6-M",
        "outputId": "f17e7fe3-030f-4b6e-ae08-3672a53cc1cf"
      },
      "execution_count": null,
      "outputs": [
        {
          "output_type": "stream",
          "name": "stderr",
          "text": [
            "<ipython-input-23-d4f08a9a8c96>:5: FutureWarning: \n",
            "\n",
            "Passing `palette` without assigning `hue` is deprecated and will be removed in v0.14.0. Assign the `x` variable to `hue` and set `legend=False` for the same effect.\n",
            "\n",
            "  sns.countplot(x=df['class'], palette=\"coolwarm\")\n"
          ]
        },
        {
          "output_type": "display_data",
          "data": {
            "text/plain": [
              "<Figure size 1000x500 with 1 Axes>"
            ],
            "image/png": "[encoded data removed]"
          },
          "metadata": {}
        }
      ]
    },
    {
      "cell_type": "code",
      "source": [
        "print(df['class'].value_counts())"
      ],
      "metadata": {
        "colab": {
          "base_uri": "https://localhost:8080/"
        },
        "id": "IjdPxEvBWArw",
        "outputId": "3f5cf288-612d-4c5a-9744-71c964db9a83"
      },
      "execution_count": null,
      "outputs": [
        {
          "output_type": "stream",
          "name": "stdout",
          "text": [
            "class\n",
            "Airplane              3316\n",
            "Truncated_airplane     109\n",
            "Name: count, dtype: int64\n"
          ]
        }
      ]
    },
    {
      "cell_type": "code",
      "source": [
        "df['image_id'].nunique()"
      ],
      "metadata": {
        "colab": {
          "base_uri": "https://localhost:8080/"
        },
        "id": "Y1mGZ0B1WCsK",
        "outputId": "b775f88f-751b-4352-8865-88560665e90c"
      },
      "execution_count": null,
      "outputs": [
        {
          "output_type": "execute_result",
          "data": {
            "text/plain": [
              "103"
            ]
          },
          "metadata": {},
          "execution_count": 25
        }
      ]
    },
    {
      "cell_type": "code",
      "source": [
        "#INSIGHT EDA & VISUALISASI\n",
        "\n",
        "plt.figure(figsize=(7, 7))\n",
        "df['class'].value_counts().plot.pie(autopct='%1.1f%%', colors=['lightblue', 'salmon'])\n",
        "plt.title(\"Distribusi Kategori Pesawat\")\n",
        "plt.ylabel(\"\")\n",
        "plt.show()\n"
      ],
      "metadata": {
        "colab": {
          "base_uri": "https://localhost:8080/",
          "height": 598
        },
        "id": "c099cxWAWoqQ",
        "outputId": "a86daa09-f7f6-4a8b-d79e-aa234023610e"
      },
      "execution_count": null,
      "outputs": [
        {
          "output_type": "display_data",
          "data": {
            "text/plain": [
              "<Figure size 700x700 with 1 Axes>"
            ],
            "image/png": "[encoded data removed]"
          },
          "metadata": {}
        }
      ]
    },
    {
      "cell_type": "code",
      "source": [
        "# Langkah 1: Import library yang diperlukan\n",
        "import matplotlib.pyplot as plt\n",
        "import numpy as np\n",
        "\n",
        "# Langkah 2: Buat data kategori dengan persentase yang diberikan\n",
        "# Kita akan memiliki 100 titik data (misalnya), dengan 96.8% untuk Airplane dan 3.2% untuk Truncated_airplane\n",
        "total_data = 100\n",
        "percent_airplane = 96.8\n",
        "percent_truncated_airplane = 3.2\n",
        "\n",
        "# Menghitung jumlah masing-masing kategori\n",
        "num_airplane = int(total_data * (percent_airplane / 100))\n",
        "num_truncated_airplane = total_data - num_airplane\n",
        "\n",
        "# Membuat data acak untuk kategori\n",
        "x_airplane = np.random.rand(num_airplane)  # Data acak untuk sumbu X (Airplane)\n",
        "y_airplane = np.random.rand(num_airplane)  # Data acak untuk sumbu Y (Airplane)\n",
        "\n",
        "x_truncated_airplane = np.random.rand(num_truncated_airplane)  # Data acak untuk sumbu X (Truncated_airplane)\n",
        "y_truncated_airplane = np.random.rand(num_truncated_airplane)  # Data acak untuk sumbu Y (Truncated_airplane)\n",
        "\n",
        "# Langkah 3: Membuat scatter plot\n",
        "plt.figure(figsize=(8,6))\n",
        "\n",
        "# Plot untuk kategori Airplane (warna biru)\n",
        "plt.scatter(x_airplane, y_airplane, color='blue', label='Airplane', marker='o')\n",
        "\n",
        "# Plot untuk kategori Truncated_airplane (warna merah)\n",
        "plt.scatter(x_truncated_airplane, y_truncated_airplane, color='red', label='Truncated_airplane', marker='x')\n",
        "\n",
        "# Langkah 4: Menambahkan label sumbu dan judul\n",
        "plt.xlabel('Sumbu X')\n",
        "plt.ylabel('Sumbu Y')\n",
        "plt.title('Distribusi Airplane dan Truncated_airplane')\n",
        "\n",
        "# Langkah 5: Menambahkan legenda untuk membedakan kategori\n",
        "plt.legend()\n",
        "\n",
        "# Langkah 6: Menampilkan diagram\n",
        "plt.show()\n"
      ],
      "metadata": {
        "colab": {
          "base_uri": "https://localhost:8080/",
          "height": 564
        },
        "id": "Zz9bO_PpojwK",
        "outputId": "424a2ea1-621f-49b6-fce8-9238ccb38753"
      },
      "execution_count": 33,
      "outputs": [
        {
          "output_type": "display_data",
          "data": {
            "text/plain": [
              "<Figure size 800x600 with 1 Axes>"
            ],
            "image/png": "[encoded data removed]"
          },
          "metadata": {}
        }
      ]
    },
    {
      "cell_type": "code",
      "source": [
        "#INSIGHT EDA & VISUALISASI\n",
        "\n",
        "plt.figure(figsize=(12, 5))\n",
        "df['image_id'].value_counts().plot(kind='hist', bins=20, color='skyblue', edgecolor='black')\n",
        "plt.xlabel(\"Jumlah Pesawat per Gambar\")\n",
        "plt.ylabel(\"Frekuensi\")\n",
        "plt.title(\"Distribusi Jumlah Pesawat dalam Gambar\")\n",
        "plt.show()\n"
      ],
      "metadata": {
        "colab": {
          "base_uri": "https://localhost:8080/",
          "height": 487
        },
        "id": "03tsmdfRWrjL",
        "outputId": "fb8199cf-2ad2-4c56-89dd-66e17f06aabf"
      },
      "execution_count": null,
      "outputs": [
        {
          "output_type": "display_data",
          "data": {
            "text/plain": [
              "<Figure size 1200x500 with 1 Axes>"
            ],
            "image/png": "[encoded data removed]"
          },
          "metadata": {}
        }
      ]
    },
    {
      "cell_type": "markdown",
      "source": [
        "#INSIGHT DAN EDA\n",
        "1. Distribusi kategori objek - pesawat\n",
        "Dari visualisasi diagram pie, terlihat bahwa mayoritas gambar dalam dataset berisi pesawat utuh (Airplane) yang mencapai 96.8% dari total data dan yang terpotong (Truncated_airplane) hanya mencakup 3.2% dari keseluruhan dataset. Insight ini menunjukkan bahwa dataset lebih fokus pada objek pesawat utuh dan bisa menunjukkan bias ketika digunakan untuk pelatihan model deteksi objek.\n",
        "2. Jumlah objek per gambar - pesawat\n",
        "Dalam analisis distribusi jumlah pesawat per gambar, kita melihat adanya variasi jumlah pesawat yang terdeteksi dalam satu gambar, banyak gambar yang hanya mengandung 1-2 pesawat, tetapi ada juga gambar yang memiliki hingga 80 pesawat. Dengan ini menunjukkan bahwa dataset ini mungkin digunakan untuk deteksi objek dalam citra satelit atau pengenalan pesawat di bandara, karena gambar dengan banyak pesawat umumnya ditemukan di lokasi-lokasi yang luas seperti lapangan parkir pesawat atau bandara.\n",
        "3. Jenis dataset terhadap deteksi objek\n",
        "Dataset ini sangat cocok untuk digunakan dalam pengenalan objek, dengan model yang dilatih pada dataset ini akan lebih terfokus pada visualisasi citra.\n",
        "\n",
        "\n",
        "#KESIMPULAN\n",
        "\n",
        "1. Dataset berisi gambar pesawat dari tampak atas yang dideteksi dengan kondisi yang berbeda.\n",
        "2. Kategori yang tersedia adalah Airplane (96.8%) dan Truncated Airplane (3.2%), sehingga dataset lebih dominan dalam mendeteksi pesawat secara utuh.\n",
        "3. Gambar dalam dataset mengandung berbagai jumlah pesawat, dengan beberapa gambar memiliki hingga 80 pesawat dalam satu gambar.\n",
        "4. Terdapat kesulitan pendeteksi, dikarenakan gambar yang disediakan memiliki masalah pada pengolahahan citra dengan sudut perspektif yang tidak rata"
      ],
      "metadata": {
        "id": "ucfjO230lHs6"
      }
    }
  ]
}